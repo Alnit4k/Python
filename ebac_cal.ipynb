{
  "nbformat": 4,
  "nbformat_minor": 0,
  "metadata": {
    "colab": {
      "private_outputs": true,
      "provenance": [],
      "authorship_tag": "ABX9TyN02W8cTNhTHY+/Etbf+Qxi",
      "include_colab_link": true
    },
    "kernelspec": {
      "name": "python3",
      "display_name": "Python 3"
    },
    "language_info": {
      "name": "python"
    }
  },
  "cells": [
    {
      "cell_type": "markdown",
      "metadata": {
        "id": "view-in-github",
        "colab_type": "text"
      },
      "source": [
        "<a href=\"https://colab.research.google.com/github/Alnit4k/Python/blob/main/ebac_cal.ipynb\" target=\"_parent\"><img src=\"https://colab.research.google.com/assets/colab-badge.svg\" alt=\"Open In Colab\"/></a>"
      ]
    },
    {
      "cell_type": "markdown",
      "source": [
        "Utilizando 2 numeros para entrada de dados"
      ],
      "metadata": {
        "id": "95YXSsU3BSYg"
      }
    },
    {
      "cell_type": "code",
      "execution_count": null,
      "metadata": {
        "id": "e9swg2McBMfI"
      },
      "outputs": [],
      "source": [
        "a=input(int())\n",
        "b=input(int())\n",
        "\n"
      ]
    },
    {
      "cell_type": "markdown",
      "source": [
        "Convertendo para float"
      ],
      "metadata": {
        "id": "Ag1haNLbBzvn"
      }
    },
    {
      "cell_type": "code",
      "source": [
        "a=float(a)\n",
        "b=float(b)\n",
        "\n",
        "#Verificando os tipos de valores\n",
        "types = type(a),type(b)\n",
        "types"
      ],
      "metadata": {
        "id": "DGFwM5HLBllV"
      },
      "execution_count": null,
      "outputs": []
    },
    {
      "cell_type": "markdown",
      "source": [
        "Colocando cada variavel em um aperacao"
      ],
      "metadata": {
        "id": "P60ZnTNQJyg3"
      }
    },
    {
      "cell_type": "code",
      "source": [
        "soma=a+b\n",
        "sub=a-b\n",
        "div=a/b\n",
        "mult=a*b\n"
      ],
      "metadata": {
        "id": "fezmIus1BiY_"
      },
      "execution_count": null,
      "outputs": []
    },
    {
      "cell_type": "markdown",
      "source": [
        "Colocando em um looping para interacao do usuario"
      ],
      "metadata": {
        "id": "ISR0cjw4J5oW"
      }
    },
    {
      "cell_type": "code",
      "source": [
        "while True:\n",
        "  enter = input('\\nPressione as teclas abaixo para realizar as operacoes\\n\\n 1 = soma\\n 2 = subtracao\\n 3 = divicao\\n 4 = multiplicacao \\n 5 = Sair \\n')\n",
        "  enter = int(enter)\n",
        "  if enter == 1:\n",
        "    print(soma)\n",
        "  if enter == 2:\n",
        "    print(sub)\n",
        "  if enter == 3:\n",
        "    print(div)\n",
        "  if enter == 4:\n",
        "    print(mult)\n",
        "  elif enter == 0:\n",
        "    print('Programa finalizado')\n",
        "    break\n",
        ""
      ],
      "metadata": {
        "id": "xbrvUGUIDguJ"
      },
      "execution_count": null,
      "outputs": []
    },
    {
      "cell_type": "code",
      "source": [],
      "metadata": {
        "id": "4APqXBsnGSOn"
      },
      "execution_count": null,
      "outputs": []
    }
  ]
}